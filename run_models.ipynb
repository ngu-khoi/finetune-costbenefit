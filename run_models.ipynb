{
 "cells": [
  {
   "attachments": {},
   "cell_type": "markdown",
   "metadata": {},
   "source": [
    "# run_models\n",
    "**Author:** Khoi Nguyen\n",
    "\n",
    "**Date created:** 03/06/2023\n",
    "\n",
    "**Last modified:** 05/12/2023\n",
    "\n",
    "**Description:** This notebook generates completions of the task \"Elaborate on the following sentence: {SENTENCE}\" using the models fine-tuned in the notebook `finetune_models.ipynb` and datasets determined by the notebook `split_data.ipynb`.\n",
    "\n",
    "**WARNING:** This notebook requires API calls and will cost money. Please be careful when running this step."
   ]
  },
  {
   "cell_type": "code",
   "execution_count": 1,
   "metadata": {},
   "outputs": [],
   "source": [
    "import json\n",
    "import openai\n",
    "import os\n",
    "import tqdm\n",
    "\n",
    "OPENAI_API_KEY = os.getenv('OPENAI_API_KEY')\n",
    "openai.api_key = OPENAI_API_KEY\n",
    "instruction = \"Elaborate on the following sentence: \""
   ]
  },
  {
   "attachments": {},
   "cell_type": "markdown",
   "metadata": {},
   "source": [
    "### ada\n",
    "Running the test set with the task \"Elaborate on the following sentence: \" using the model `52k_instruct_ada`"
   ]
  },
  {
   "cell_type": "code",
   "execution_count": 2,
   "metadata": {},
   "outputs": [
    {
     "name": "stderr",
     "output_type": "stream",
     "text": [
      "100%|██████████| 1000/1000 [09:34<00:00,  1.74it/s]\n"
     ]
    }
   ],
   "source": [
    "# Synthesize Test Results Data with ada\n",
    "modeldir = \"ada\"\n",
    "confirmation = input(f'Are you sure you want to run synthethic {modeldir} model results? Type YES or NO: ')\n",
    "\n",
    "if confirmation == 'YES':\n",
    "    with open(f'data/{modeldir}/test.json') as f:\n",
    "        test_data = json.load(f)\n",
    "\n",
    "    with open(f'data/{modeldir}/model_results.json', 'w') as outfile:\n",
    "        results = []\n",
    "        for sentence in tqdm.tqdm(test_data):\n",
    "            prompt = \"{instruction}\\\"{sentence}\\\"\\n\\n##\\n\\n\".format(sentence=sentence[\"sentence\"], instruction=instruction)\n",
    "            response = openai.Completion.create(\n",
    "                model=\"ada:ft-delilah:52k-instuct-ada-2023-05-03-22-55-32\",\n",
    "                prompt=prompt,\n",
    "                temperature=0.7,\n",
    "                max_tokens=256,\n",
    "                top_p=1,\n",
    "                frequency_penalty=0,\n",
    "                presence_penalty=0,\n",
    "                stop=[\"\\n\"]\n",
    "            )\n",
    "            result = {\n",
    "                'prompt': prompt,\n",
    "                'completion': response.choices[0].text.strip(),\n",
    "            }\n",
    "            results.append(result)\n",
    "        json.dump({\"sentences\": results}, outfile)\n",
    "        outfile.flush()\n",
    "else:\n",
    "    print('Synthethic {modeldir} model test results aborted.')"
   ]
  },
  {
   "cell_type": "code",
   "execution_count": 3,
   "metadata": {},
   "outputs": [
    {
     "name": "stderr",
     "output_type": "stream",
     "text": [
      "100%|██████████| 1000/1000 [09:01<00:00,  1.85it/s]\n"
     ]
    }
   ],
   "source": [
    "# Synthesize Test Results Data with Curie\n",
    "confirmation = input(f'Are you sure you want to run synthethic {modeldir} Curie results? Type YES or NO: ')\n",
    "\n",
    "if confirmation == 'YES':\n",
    "    with open(f'data/{modeldir}/test.json') as f:\n",
    "        test_data = json.load(f)\n",
    "\n",
    "    with open(f'data/{modeldir}/curie_results.json', 'w') as outfile:\n",
    "        results = []\n",
    "        for sentence in tqdm.tqdm(test_data):\n",
    "            prompt = \"{instruction}\\\"{sentence}\\\"\\n\\n\".format(sentence=sentence[\"sentence\"], instruction=instruction)\n",
    "            response = openai.Completion.create(\n",
    "                model=\"text-curie-001\",\n",
    "                prompt=prompt,\n",
    "                temperature=0.7,\n",
    "                max_tokens=256,\n",
    "                top_p=1,\n",
    "                frequency_penalty=0,\n",
    "                presence_penalty=0\n",
    "            )\n",
    "            result = {\n",
    "                'prompt': prompt,\n",
    "                'completion': response.choices[0].text.strip(),\n",
    "            }\n",
    "            results.append(result)\n",
    "        json.dump({\"sentences\": results}, outfile)\n",
    "        outfile.flush()\n",
    "else:\n",
    "    print('Synthethic {modeldir} Curie test results aborted.')"
   ]
  },
  {
   "attachments": {},
   "cell_type": "markdown",
   "metadata": {},
   "source": [
    "### 1k_ada\n",
    "Running the test set with the task \"Elaborate on the following sentence: \" using the model `1k_ada`"
   ]
  },
  {
   "cell_type": "code",
   "execution_count": 4,
   "metadata": {},
   "outputs": [
    {
     "name": "stderr",
     "output_type": "stream",
     "text": [
      "100%|██████████| 1000/1000 [06:21<00:00,  2.62it/s]\n"
     ]
    }
   ],
   "source": [
    "# Synthesize Test Results Data with 1k_ada\n",
    "modeldir = \"1k_ada\"\n",
    "confirmation = input(f'Are you sure you want to run synthethic {modeldir} model results? Type YES or NO: ')\n",
    "\n",
    "if confirmation == 'YES':\n",
    "    with open(f'data/{modeldir}/test.json') as f:\n",
    "        test_data = json.load(f)\n",
    "\n",
    "    with open(f'data/{modeldir}/model_results.json', 'w') as outfile:\n",
    "        results = []\n",
    "        for sentence in tqdm.tqdm(test_data):\n",
    "            prompt = \"{instruction}\\\"{sentence}\\\"\\n\\n##\\n\\n\".format(sentence=sentence[\"sentence\"], instruction=instruction)\n",
    "            response = openai.Completion.create(\n",
    "                model=\"ada:ft-delilah:1k-ada-2023-05-05-18-03-38\",\n",
    "                prompt=prompt,\n",
    "                temperature=0.7,\n",
    "                max_tokens=256,\n",
    "                top_p=1,\n",
    "                frequency_penalty=0,\n",
    "                presence_penalty=0,\n",
    "                stop=[\"\\n\"]\n",
    "            )\n",
    "            result = {\n",
    "                'prompt': prompt,\n",
    "                'completion': response.choices[0].text.strip(),\n",
    "            }\n",
    "            results.append(result)\n",
    "        json.dump({\"sentences\": results}, outfile)\n",
    "        outfile.flush()\n",
    "else:\n",
    "    print('Synthethic {modeldir} model test results aborted.')"
   ]
  },
  {
   "cell_type": "code",
   "execution_count": 5,
   "metadata": {},
   "outputs": [
    {
     "name": "stderr",
     "output_type": "stream",
     "text": [
      "100%|██████████| 1000/1000 [09:00<00:00,  1.85it/s]\n"
     ]
    }
   ],
   "source": [
    "# Synthesize Test Results Data with Curie\n",
    "confirmation = input(f'Are you sure you want to run synthethic {modeldir} Curie results? Type YES or NO: ')\n",
    "\n",
    "if confirmation == 'YES':\n",
    "    with open(f'data/{modeldir}/test.json') as f:\n",
    "        test_data = json.load(f)\n",
    "\n",
    "    with open(f'data/{modeldir}/curie_results.json', 'w') as outfile:\n",
    "        results = []\n",
    "        for sentence in tqdm.tqdm(test_data):\n",
    "            prompt = \"{instruction}\\\"{sentence}\\\"\\n\\n\".format(sentence=sentence[\"sentence\"], instruction=instruction)\n",
    "            response = openai.Completion.create(\n",
    "                model=\"text-curie-001\",\n",
    "                prompt=prompt,\n",
    "                temperature=0.7,\n",
    "                max_tokens=256,\n",
    "                top_p=1,\n",
    "                frequency_penalty=0,\n",
    "                presence_penalty=0\n",
    "            )\n",
    "            result = {\n",
    "                'prompt': prompt,\n",
    "                'completion': response.choices[0].text.strip(),\n",
    "            }\n",
    "            results.append(result)\n",
    "        json.dump({\"sentences\": results}, outfile)\n",
    "        outfile.flush()\n",
    "else:\n",
    "    print('Synthethic {modeldir} Curie test results aborted.')"
   ]
  },
  {
   "attachments": {},
   "cell_type": "markdown",
   "metadata": {},
   "source": [
    "### 10k_ada\n",
    "Running the test set with the task \"Elaborate on the following sentence: \" using the model `10k_ada`"
   ]
  },
  {
   "cell_type": "code",
   "execution_count": 6,
   "metadata": {},
   "outputs": [
    {
     "name": "stderr",
     "output_type": "stream",
     "text": [
      "100%|██████████| 1000/1000 [09:19<00:00,  1.79it/s]\n"
     ]
    }
   ],
   "source": [
    "# Synthesize Test Results Data with 10k_ada\n",
    "modeldir = \"10k_ada\"\n",
    "confirmation = input(f'Are you sure you want to run synthethic {modeldir} model results? Type YES or NO: ')\n",
    "\n",
    "if confirmation == 'YES':\n",
    "    with open(f'data/{modeldir}/test.json') as f:\n",
    "        test_data = json.load(f)\n",
    "\n",
    "    with open(f'data/{modeldir}/model_results.json', 'w') as outfile:\n",
    "        results = []\n",
    "        for sentence in tqdm.tqdm(test_data):\n",
    "            prompt = \"{instruction}\\\"{sentence}\\\"\\n\\n##\\n\\n\".format(sentence=sentence[\"sentence\"], instruction=instruction)\n",
    "            response = openai.Completion.create(\n",
    "                model=\"ada:ft-delilah:52k-instuct-ada-2023-05-03-22-55-32\",\n",
    "                prompt=prompt,\n",
    "                temperature=0.7,\n",
    "                max_tokens=256,\n",
    "                top_p=1,\n",
    "                frequency_penalty=0,\n",
    "                presence_penalty=0,\n",
    "                stop=[\"\\n\"]\n",
    "            )\n",
    "            result = {\n",
    "                'prompt': prompt,\n",
    "                'completion': response.choices[0].text.strip(),\n",
    "            }\n",
    "            results.append(result)\n",
    "        json.dump({\"sentences\": results}, outfile)\n",
    "        outfile.flush()\n",
    "else:\n",
    "    print('Synthethic {modeldir} model test results aborted.')"
   ]
  },
  {
   "cell_type": "code",
   "execution_count": 7,
   "metadata": {},
   "outputs": [
    {
     "name": "stderr",
     "output_type": "stream",
     "text": [
      "100%|██████████| 1000/1000 [09:12<00:00,  1.81it/s]\n"
     ]
    }
   ],
   "source": [
    "# Synthesize Test Results Data with Curie\n",
    "confirmation = input(f'Are you sure you want to run synthethic {modeldir} Curie results? Type YES or NO: ')\n",
    "\n",
    "if confirmation == 'YES':\n",
    "    with open(f'data/{modeldir}/test.json') as f:\n",
    "        test_data = json.load(f)\n",
    "\n",
    "    with open(f'data/{modeldir}/curie_results.json', 'w') as outfile:\n",
    "        results = []\n",
    "        for sentence in tqdm.tqdm(test_data):\n",
    "            prompt = \"{instruction}\\\"{sentence}\\\"\\n\\n\".format(sentence=sentence[\"sentence\"], instruction=instruction)\n",
    "            response = openai.Completion.create(\n",
    "                model=\"text-curie-001\",\n",
    "                prompt=prompt,\n",
    "                temperature=0.7,\n",
    "                max_tokens=256,\n",
    "                top_p=1,\n",
    "                frequency_penalty=0,\n",
    "                presence_penalty=0\n",
    "            )\n",
    "            result = {\n",
    "                'prompt': prompt,\n",
    "                'completion': response.choices[0].text.strip(),\n",
    "            }\n",
    "            results.append(result)\n",
    "        json.dump({\"sentences\": results}, outfile)\n",
    "        outfile.flush()\n",
    "else:\n",
    "    print('Synthethic {modeldir} Curie test results aborted.')"
   ]
  },
  {
   "attachments": {},
   "cell_type": "markdown",
   "metadata": {},
   "source": [
    "### 100k_ada\n",
    "Running the test set with the task \"Elaborate on the following sentence: \" using the model `100k_ada`"
   ]
  },
  {
   "cell_type": "code",
   "execution_count": 8,
   "metadata": {},
   "outputs": [
    {
     "name": "stdout",
     "output_type": "stream",
     "text": [
      "Synthethic {modeldir} model test results aborted.\n"
     ]
    }
   ],
   "source": [
    "# Synthesize Test Results Data with 100k_ada\n",
    "modeldir = \"100k_ada\"\n",
    "confirmation = input(f'Are you sure you want to run synthethic {modeldir} model results? Type YES or NO: ')\n",
    "\n",
    "if confirmation == 'YES':\n",
    "    with open(f'data/{modeldir}/test.json') as f:\n",
    "        test_data = json.load(f)\n",
    "\n",
    "    with open(f'data/{modeldir}/model_results.json', 'w') as outfile:\n",
    "        results = []\n",
    "        for sentence in tqdm.tqdm(test_data):\n",
    "            prompt = \"{instruction}\\\"{sentence}\\\"\\n\\n##\\n\\n\".format(sentence=sentence[\"sentence\"], instruction=instruction)\n",
    "            response = openai.Completion.create(\n",
    "                model=\"10k_ada\",\n",
    "                prompt=prompt,\n",
    "                temperature=0.7,\n",
    "                max_tokens=256,\n",
    "                top_p=1,\n",
    "                frequency_penalty=0,\n",
    "                presence_penalty=0,\n",
    "                stop=[\"\\n\"]\n",
    "            )\n",
    "            result = {\n",
    "                'prompt': prompt,\n",
    "                'completion': response.choices[0].text.strip(),\n",
    "            }\n",
    "            results.append(result)\n",
    "        json.dump({\"sentences\": results}, outfile)\n",
    "        outfile.flush()\n",
    "else:\n",
    "    print('Synthethic {modeldir} model test results aborted.')"
   ]
  },
  {
   "cell_type": "code",
   "execution_count": 9,
   "metadata": {},
   "outputs": [
    {
     "name": "stdout",
     "output_type": "stream",
     "text": [
      "Synthethic {modeldir} Curie test results aborted.\n"
     ]
    }
   ],
   "source": [
    "# Synthesize Test Results Data with Curie\n",
    "confirmation = input(f'Are you sure you want to run synthethic {modeldir} Curie results? Type YES or NO: ')\n",
    "\n",
    "if confirmation == 'YES':\n",
    "    with open(f'data/{modeldir}/test.json') as f:\n",
    "        test_data = json.load(f)\n",
    "\n",
    "    with open(f'data/{modeldir}/curie_results.json', 'w') as outfile:\n",
    "        results = []\n",
    "        for sentence in tqdm.tqdm(test_data):\n",
    "            prompt = \"{instruction}\\\"{sentence}\\\"\\n\\n\".format(sentence=sentence[\"sentence\"], instruction=instruction)\n",
    "            response = openai.Completion.create(\n",
    "                model=\"text-curie-001\",\n",
    "                prompt=prompt,\n",
    "                temperature=0.7,\n",
    "                max_tokens=256,\n",
    "                top_p=1,\n",
    "                frequency_penalty=0,\n",
    "                presence_penalty=0\n",
    "            )\n",
    "            result = {\n",
    "                'prompt': prompt,\n",
    "                'completion': response.choices[0].text.strip(),\n",
    "            }\n",
    "            results.append(result)\n",
    "        json.dump({\"sentences\": results}, outfile)\n",
    "        outfile.flush()\n",
    "else:\n",
    "    print('Synthethic {modeldir} Curie test results aborted.')"
   ]
  }
 ],
 "metadata": {
  "kernelspec": {
   "display_name": "venv",
   "language": "python",
   "name": "python3"
  },
  "language_info": {
   "codemirror_mode": {
    "name": "ipython",
    "version": 3
   },
   "file_extension": ".py",
   "mimetype": "text/x-python",
   "name": "python",
   "nbconvert_exporter": "python",
   "pygments_lexer": "ipython3",
   "version": "3.9.15"
  },
  "orig_nbformat": 4
 },
 "nbformat": 4,
 "nbformat_minor": 2
}
