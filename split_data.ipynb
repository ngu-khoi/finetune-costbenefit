{
 "cells": [
  {
   "attachments": {},
   "cell_type": "markdown",
   "metadata": {},
   "source": [
    "# split_data\n",
    "**Author:** Khoi Nguyen\n",
    "\n",
    "**Date created:** 03/06/2023\n",
    "\n",
    "**Last modified:** 04/15/2023\n",
    "\n",
    "**Description:** This notebook splits data into train and test sets."
   ]
  },
  {
   "cell_type": "code",
   "execution_count": 1,
   "metadata": {},
   "outputs": [],
   "source": [
    "# Imports\n",
    "import json\n",
    "import random"
   ]
  },
  {
   "attachments": {},
   "cell_type": "markdown",
   "metadata": {},
   "source": [
    "### Ada\n",
    "Split data into train and test sets inside the `data/ada` folder."
   ]
  },
  {
   "cell_type": "code",
   "execution_count": 2,
   "metadata": {},
   "outputs": [],
   "source": [
    "# randomly choose 1,000 samples from `data/generics.json` to be used for testing. The data is stored as {\"sentences\" : [{\"sentence\" : sentence1}, ...]}\n",
    "# load the data\n",
    "with open('data/generics.json') as json_file:\n",
    "    data = json.load(json_file)\n",
    "\n",
    "# Shuffle the data and split it into training and testing\n",
    "sentences = data['sentences']\n",
    "random.shuffle(sentences)\n",
    "# train = sentences[:1000] # 1,000 sentences for training is not needed\n",
    "test = sentences[-1000:]\n",
    "\n",
    "# save the data\n",
    "# with open('data/1k_ada/train.json', 'w') as outfile:\n",
    "#     json.dump(train, outfile)\n",
    "\n",
    "with open('data/ada/test.json', 'w') as outfile:\n",
    "    json.dump(test, outfile)"
   ]
  },
  {
   "cell_type": "code",
   "execution_count": 3,
   "metadata": {},
   "outputs": [
    {
     "name": "stdout",
     "output_type": "stream",
     "text": [
      "[\n",
      "  {\n",
      "    \"sentence\": \"Love is the immortal flow of energy that nourishes and preserves.\"\n",
      "  },\n",
      "  {\n",
      "    \"sentence\": \"Basic hygiene can help prevent meningococcal disease.\"\n",
      "  },\n",
      "  {\n",
      "    \"sentence\": \"Most land breezes occur in temperate regions.\"\n",
      "  },\n",
      "  {\n",
      "    \"sentence\": \"Degradations can have impact.\"\n",
      "  },\n",
      "  {\n",
      "    \"sentence\": \"Western tanagers are insectivores and catch insects while they are in flight.\"\n",
      "  }\n",
      "]\n"
     ]
    }
   ],
   "source": [
    "# Print the first 10 samples reading from the test file with prettier formatting\n",
    "with open('data/ada/test.json') as f:\n",
    "    data = json.load(f)\n",
    "    print(json.dumps(data[:5], indent=2))"
   ]
  },
  {
   "attachments": {},
   "cell_type": "markdown",
   "metadata": {},
   "source": [
    "### 1k Ada\n",
    "Split data into train and test sets inside the `data/1k_ada` folder."
   ]
  },
  {
   "cell_type": "code",
   "execution_count": 4,
   "metadata": {},
   "outputs": [],
   "source": [
    "# randomly choose 1,000 samples from `data/generics.json` to be used for training and testing. The data is stored as {\"sentences\" : [{\"sentence\" : sentence1}, ...]}\n",
    "# load the data\n",
    "with open('data/generics.json') as json_file:\n",
    "    data = json.load(json_file)\n",
    "\n",
    "# Shuffle the data and split it into training and testing\n",
    "sentences = data['sentences']\n",
    "random.shuffle(sentences)\n",
    "train = sentences[:1000]\n",
    "test = sentences[-1000:]\n",
    "\n",
    "# save the data\n",
    "with open('data/1k_ada/train.json', 'w') as outfile:\n",
    "    json.dump(train, outfile)\n",
    "\n",
    "with open('data/1k_ada/test.json', 'w') as outfile:\n",
    "    json.dump(test, outfile)"
   ]
  },
  {
   "cell_type": "code",
   "execution_count": 5,
   "metadata": {},
   "outputs": [
    {
     "name": "stdout",
     "output_type": "stream",
     "text": [
      "[\n",
      "  {\n",
      "    \"sentence\": \"Artificial teeth are the single most expensive component of a denture.\"\n",
      "  },\n",
      "  {\n",
      "    \"sentence\": \"Monocots have one cotyledon and dicots have two cotyledons.\"\n",
      "  },\n",
      "  {\n",
      "    \"sentence\": \"Utilities use consumption.\"\n",
      "  },\n",
      "  {\n",
      "    \"sentence\": \"Architecture is engagement with the world.\"\n",
      "  },\n",
      "  {\n",
      "    \"sentence\": \"Recipes include fresh vegetables.\"\n",
      "  }\n",
      "]\n"
     ]
    }
   ],
   "source": [
    "# Print the first 5 samples reading from the test file with prettier formatting\n",
    "with open('data/1k_ada/test.json') as f:\n",
    "    data = json.load(f)\n",
    "    print(json.dumps(data[:5], indent=2))"
   ]
  },
  {
   "attachments": {},
   "cell_type": "markdown",
   "metadata": {},
   "source": [
    "### 10k Ada\n",
    "Split data into train and test sets inside the `data/10k_ada` folder."
   ]
  },
  {
   "cell_type": "code",
   "execution_count": 6,
   "metadata": {},
   "outputs": [],
   "source": [
    "# randomly choose 10k samples from `data/generics.json` to be used for training and testing. The data is stored as {\"sentences\" : [{\"sentence\" : sentence1}, ...]}\n",
    "# load the data\n",
    "with open('data/generics.json') as json_file:\n",
    "    data = json.load(json_file)\n",
    "\n",
    "# Shuffle the data and split it into training and testing\n",
    "sentences = data['sentences']\n",
    "random.shuffle(sentences)\n",
    "train = sentences[:10000]\n",
    "test = sentences[-1000:]\n",
    "\n",
    "# save the data\n",
    "with open('data/10k_ada/train.json', 'w') as outfile:\n",
    "    json.dump(train, outfile)\n",
    "\n",
    "with open('data/10k_ada/test.json', 'w') as outfile:\n",
    "    json.dump(test, outfile)"
   ]
  },
  {
   "cell_type": "code",
   "execution_count": 7,
   "metadata": {},
   "outputs": [
    {
     "name": "stdout",
     "output_type": "stream",
     "text": [
      "[\n",
      "  {\n",
      "    \"sentence\": \"Saddle soap is used for cleaning, conditioning, and softening leather.\"\n",
      "  },\n",
      "  {\n",
      "    \"sentence\": \"Paramecia regulate water by way of contractile vacuoles.\"\n",
      "  },\n",
      "  {\n",
      "    \"sentence\": \"Fireworks are dangerous because they contain gunpowder.\"\n",
      "  },\n",
      "  {\n",
      "    \"sentence\": \"Predatory birds hunt the reed beds for mammals and other birds that shelter there.\"\n",
      "  },\n",
      "  {\n",
      "    \"sentence\": \"Most cold cuts are high in fat and sodium.\"\n",
      "  }\n",
      "]\n"
     ]
    }
   ],
   "source": [
    "# Print the first 5 samples reading from the test file with prettier formatting\n",
    "with open('data/10k_ada/test.json') as f:\n",
    "    data = json.load(f)\n",
    "    print(json.dumps(data[:5], indent=2))"
   ]
  },
  {
   "attachments": {},
   "cell_type": "markdown",
   "metadata": {},
   "source": [
    "### 100k Ada\n",
    "Split data into train and test sets inside the `data/100k_ada` folder."
   ]
  },
  {
   "cell_type": "code",
   "execution_count": 8,
   "metadata": {},
   "outputs": [],
   "source": [
    "# randomly choose 100k samples from `data/generics.json` to be used for training and testing. The data is stored as {\"sentences\" : [{\"sentence\" : sentence1}, ...]}\n",
    "# load the data\n",
    "with open('data/generics.json') as json_file:\n",
    "    data = json.load(json_file)\n",
    "\n",
    "# Shuffle the data and split it into training and testing\n",
    "sentences = data['sentences']\n",
    "random.shuffle(sentences)\n",
    "train = sentences[:100000]\n",
    "test = sentences[-1000:]\n",
    "\n",
    "# save the data\n",
    "with open('data/100k_ada/train.json', 'w') as outfile:\n",
    "    json.dump(train, outfile)\n",
    "\n",
    "with open('data/100k_ada/test.json', 'w') as outfile:\n",
    "    json.dump(test, outfile)"
   ]
  },
  {
   "cell_type": "code",
   "execution_count": 9,
   "metadata": {},
   "outputs": [
    {
     "name": "stdout",
     "output_type": "stream",
     "text": [
      "[\n",
      "  {\n",
      "    \"sentence\": \"Plant survival depends on change environmental conditions.\"\n",
      "  },\n",
      "  {\n",
      "    \"sentence\": \"Cassowaries have (part) quill feathers.\"\n",
      "  },\n",
      "  {\n",
      "    \"sentence\": \"Most mammals belong to raccoon families.\"\n",
      "  },\n",
      "  {\n",
      "    \"sentence\": \"Qualitative knowledge is considered as a particular approach to knowledge.\"\n",
      "  },\n",
      "  {\n",
      "    \"sentence\": \"Money is located in floors.\"\n",
      "  }\n",
      "]\n"
     ]
    }
   ],
   "source": [
    "# Print the first 5 samples reading from the test file with prettier formatting\n",
    "with open('data/100k_ada/test.json') as f:\n",
    "    data = json.load(f)\n",
    "    print(json.dumps(data[:5], indent=2))"
   ]
  }
 ],
 "metadata": {
  "kernelspec": {
   "display_name": "Python 3",
   "language": "python",
   "name": "python3"
  },
  "language_info": {
   "codemirror_mode": {
    "name": "ipython",
    "version": 3
   },
   "file_extension": ".py",
   "mimetype": "text/x-python",
   "name": "python",
   "nbconvert_exporter": "python",
   "pygments_lexer": "ipython3",
   "version": "3.9.15"
  },
  "orig_nbformat": 4
 },
 "nbformat": 4,
 "nbformat_minor": 2
}
