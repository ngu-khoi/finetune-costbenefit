{
 "cells": [
  {
   "attachments": {},
   "cell_type": "markdown",
   "metadata": {},
   "source": [
    "# finetune_models\n",
    "**Author:** Khoi Nguyen\n",
    "\n",
    "**Date created:** 03/06/2023\n",
    "\n",
    "**Last modified:** 04/15/2023\n",
    "\n",
    "**Description:** Finetuning worse GPT models.\n",
    "\n",
    "**WARNING:** This notebook requires API calls and will cost money. Please be careful when running this step."
   ]
  },
  {
   "cell_type": "code",
   "execution_count": null,
   "metadata": {},
   "outputs": [],
   "source": [
    "# Create the fine-tuned model using the OpenAI CLI\n",
    "# openai api fine_tunes.create -t data/1k_ada/openai_cleaned_prepared.jsonl -m ada:ft-delilah:52k-instuct-ada-2023-05-03-22-55-32 --suffix \"1k_ada\"\n",
    "# openai api fine_tunes.create -t data/10k_ada/openai_cleaned_prepared.jsonl -m ada:ft-delilah:52k-instuct-ada-2023-05-03-22-55-32 --suffix \"10k_ada\"\n",
    "# openai api fine_tunes.create -t data/100k_ada/openai_cleaned_prepared.jsonl -m ada:ft-delilah:52k-instuct-ada-2023-05-03-22-55-32 --suffix \"100k_ada\"\n",
    "\n",
    "# openai api fine_tunes.list"
   ]
  }
 ],
 "metadata": {
  "kernelspec": {
   "display_name": "Python 3",
   "language": "python",
   "name": "python3"
  },
  "language_info": {
   "name": "python",
   "version": "3.9.15"
  },
  "orig_nbformat": 4,
  "vscode": {
   "interpreter": {
    "hash": "a665b5d41d17b532ea9890333293a1b812fa0b73c9c25c950b3cedf1bebd0438"
   }
  }
 },
 "nbformat": 4,
 "nbformat_minor": 2
}
