{
 "cells": [
  {
   "attachments": {},
   "cell_type": "markdown",
   "metadata": {},
   "source": [
    "# prepare_instruct_ada\n",
    "**Author:** Khoi Nguyen\n",
    "\n",
    "**Date created:** 03/30/2023\n",
    "\n",
    "**Last modified:** 05/12/2023\n",
    "\n",
    "**Description:** This notebook prepares data to fine-tune the Ada model to follow instructions using data from the Stanford Alpaca repo.\n",
    "\n",
    "**WARNING:** This notebook requires API calls and will cost money. Please be careful when running this step.\n",
    "\n",
    "*We had a typo initially where the fine-tuned model was named 52k_instuct_ada and not 52k_instruct_ada. I've corrected the name in this file, but the rest of the project refers to the typo fine-tuned model*"
   ]
  },
  {
   "cell_type": "code",
   "execution_count": 3,
   "metadata": {},
   "outputs": [],
   "source": [
    "import os\n",
    "import json"
   ]
  },
  {
   "cell_type": "code",
   "execution_count": 5,
   "metadata": {},
   "outputs": [
    {
     "name": "stdout",
     "output_type": "stream",
     "text": [
      "[\n",
      "    {\n",
      "        \"instruction\": \"Give three tips for staying healthy.\",\n",
      "        \"input\": \"\",\n",
      "        \"output\": \"1.Eat a balanced diet and make sure to include plenty of fruits and vegetables. \\n2. Exercise regularly to keep your body active and strong. \\n3. Get enough sleep and maintain a consistent sleep schedule.\"\n",
      "    },\n",
      "    {\n",
      "        \"instruction\": \"What are the three primary colors?\",\n",
      "        \"input\": \"\",\n",
      "        \"output\": \"The three primary colors are red, blue, and yellow.\"\n",
      "    },\n",
      "    {\n",
      "        \"instruction\": \"Describe the structure of an atom.\",\n",
      "        \"input\": \"\",\n",
      "        \"output\": \"An atom is made up of a nucleus, which contains protons and neutrons, surrounded by electrons that travel in orbits around the nucleus. The protons and neutrons have a positive charge, while the electrons have a negative charge, resulting in an overall neutral atom. The number of each particle determines the atomic number and the type of atom.\"\n",
      "    },\n",
      "    {\n",
      "        \"instruction\": \"How can we reduce air pollution?\",\n",
      "        \"input\": \"\",\n",
      "        \"output\": \"There are a number of ways to reduce air pollution, such as shifting to renewable energy sources, encouraging the use of public transportation, prohibiting the burning of fossil fuels, implementing policies to reduce emissions from industrial sources, and implementing vehicle emissions standards. Additionally, individuals can do their part to reduce air pollution by reducing car use, avoiding burning materials such as wood, and changing to energy efficient appliances.\"\n",
      "    },\n",
      "    {\n",
      "        \"instruction\": \"Describe a time when you had to make a difficult decision.\",\n",
      "        \"input\": \"\",\n",
      "        \"output\": \"I had to make a difficult decision when I was working as a project manager at a construction company. I was in charge of a project that needed to be completed by a certain date in order to meet the client\\u2019s expectations. However, due to unexpected delays, we were not able to meet the deadline and so I had to make a difficult decision. I decided to extend the deadline, but I had to stretch the team\\u2019s resources even further and increase the budget. Although it was a risky decision, I ultimately decided to go ahead with it to ensure that the project was completed on time and that the client\\u2019s expectations were met. The project was eventually successfully completed and this was seen as a testament to my leadership and decision-making abilities.\"\n",
      "    },\n",
      "    {\n",
      "        \"instruction\": \"Identify the odd one out.\",\n",
      "        \"input\": \"Twitter, Instagram, Telegram\",\n",
      "        \"output\": \"Telegram\"\n",
      "    },\n",
      "    {\n",
      "        \"instruction\": \"Explain why the following fraction is equivalent to 1/4\",\n",
      "        \"input\": \"4/16\",\n",
      "        \"output\": \"The fraction 4/16 is equivalent to 1/4 because both numerators and denominators are divisible by 4. Dividing both the top and bottom numbers by 4 yields the fraction 1/4.\"\n",
      "    },\n",
      "    {\n",
      "        \"instruction\": \"Write a short story in third person narration about a protagonist who has to make an important career decision.\",\n",
      "        \"input\": \"\",\n",
      "        \"output\": \"John was at a crossroads in his life. He had just graduated college and was now facing the big decision of what career to pursue. After much deliberation, he decided that he wanted to be an accountant and help the financially disadvantaged. He had always been good with numbers and enjoyed seeing the tangible results of his work. \\n\\nJohn enrolled in accounting courses and initially found it quite challenging. He had to learn multiple systems and regulations quickly, but he worked hard and eventually excelled in his studies. After a few years, John started working at an accounting firm in his city. He was eager to put his knowledge of taxes and accounting to use in a real-world setting.\\n\\nJohn loved his job, as it let him express his creativity in finding strategies to save his clients money. After a few years at the firm, he became a senior accountant and was asked to manage bigger and more challenging cases. He was now a respected figure in the financial industry, but he still remembers when he was just a recent college graduate, unsure of the direction in which his life would take him.\"\n",
      "    },\n",
      "    {\n",
      "        \"instruction\": \"Render a 3D model of a house\",\n",
      "        \"input\": \"\",\n",
      "        \"output\": \"<nooutput> This type of instruction cannot be fulfilled by a GPT model.\"\n",
      "    },\n",
      "    {\n",
      "        \"instruction\": \"Evaluate this sentence for spelling and grammar mistakes\",\n",
      "        \"input\": \"He finnished his meal and left the resturant\",\n",
      "        \"output\": \"He finished his meal and left the restaurant.\"\n",
      "    }\n",
      "]\n"
     ]
    }
   ],
   "source": [
    "with open(os.path.join('data', 'alpaca_data.json'), 'r') as f:\n",
    "    data = json.load(f)\n",
    "\n",
    "# print the first 10 objects with pretty formatting\n",
    "print(json.dumps(data[:10], indent=4))"
   ]
  },
  {
   "cell_type": "code",
   "execution_count": 6,
   "metadata": {},
   "outputs": [
    {
     "name": "stdout",
     "output_type": "stream",
     "text": [
      "[\n",
      "    \"{\\\"prompt\\\": \\\"Give three tips for staying healthy.\\\\n\\\\n##\\\\n\\\\n\\\", \\\"completion\\\": \\\" 1.Eat a balanced diet and make sure to include plenty of fruits and vegetables. \\\\n2. Exercise regularly to keep your body active and strong. \\\\n3. Get enough sleep and maintain a consistent sleep schedule.\\\\n\\\"}\\n\",\n",
      "    \"{\\\"prompt\\\": \\\"What are the three primary colors?\\\\n\\\\n##\\\\n\\\\n\\\", \\\"completion\\\": \\\" The three primary colors are red, blue, and yellow.\\\\n\\\"}\\n\",\n",
      "    \"{\\\"prompt\\\": \\\"Describe the structure of an atom.\\\\n\\\\n##\\\\n\\\\n\\\", \\\"completion\\\": \\\" An atom is made up of a nucleus, which contains protons and neutrons, surrounded by electrons that travel in orbits around the nucleus. The protons and neutrons have a positive charge, while the electrons have a negative charge, resulting in an overall neutral atom. The number of each particle determines the atomic number and the type of atom.\\\\n\\\"}\\n\",\n",
      "    \"{\\\"prompt\\\": \\\"How can we reduce air pollution?\\\\n\\\\n##\\\\n\\\\n\\\", \\\"completion\\\": \\\" There are a number of ways to reduce air pollution, such as shifting to renewable energy sources, encouraging the use of public transportation, prohibiting the burning of fossil fuels, implementing policies to reduce emissions from industrial sources, and implementing vehicle emissions standards. Additionally, individuals can do their part to reduce air pollution by reducing car use, avoiding burning materials such as wood, and changing to energy efficient appliances.\\\\n\\\"}\\n\",\n",
      "    \"{\\\"prompt\\\": \\\"Describe a time when you had to make a difficult decision.\\\\n\\\\n##\\\\n\\\\n\\\", \\\"completion\\\": \\\" I had to make a difficult decision when I was working as a project manager at a construction company. I was in charge of a project that needed to be completed by a certain date in order to meet the client\\\\u2019s expectations. However, due to unexpected delays, we were not able to meet the deadline and so I had to make a difficult decision. I decided to extend the deadline, but I had to stretch the team\\\\u2019s resources even further and increase the budget. Although it was a risky decision, I ultimately decided to go ahead with it to ensure that the project was completed on time and that the client\\\\u2019s expectations were met. The project was eventually successfully completed and this was seen as a testament to my leadership and decision-making abilities.\\\\n\\\"}\\n\",\n",
      "    \"{\\\"prompt\\\": \\\"Identify the odd one out.\\\\nTwitter, Instagram, Telegram\\\\n\\\\n##\\\\n\\\\n\\\", \\\"completion\\\": \\\" Telegram\\\\n\\\"}\\n\",\n",
      "    \"{\\\"prompt\\\": \\\"Explain why the following fraction is equivalent to 1/4\\\\n4/16\\\\n\\\\n##\\\\n\\\\n\\\", \\\"completion\\\": \\\" The fraction 4/16 is equivalent to 1/4 because both numerators and denominators are divisible by 4. Dividing both the top and bottom numbers by 4 yields the fraction 1/4.\\\\n\\\"}\\n\",\n",
      "    \"{\\\"prompt\\\": \\\"Write a short story in third person narration about a protagonist who has to make an important career decision.\\\\n\\\\n##\\\\n\\\\n\\\", \\\"completion\\\": \\\" John was at a crossroads in his life. He had just graduated college and was now facing the big decision of what career to pursue. After much deliberation, he decided that he wanted to be an accountant and help the financially disadvantaged. He had always been good with numbers and enjoyed seeing the tangible results of his work. \\\\n\\\\nJohn enrolled in accounting courses and initially found it quite challenging. He had to learn multiple systems and regulations quickly, but he worked hard and eventually excelled in his studies. After a few years, John started working at an accounting firm in his city. He was eager to put his knowledge of taxes and accounting to use in a real-world setting.\\\\n\\\\nJohn loved his job, as it let him express his creativity in finding strategies to save his clients money. After a few years at the firm, he became a senior accountant and was asked to manage bigger and more challenging cases. He was now a respected figure in the financial industry, but he still remembers when he was just a recent college graduate, unsure of the direction in which his life would take him.\\\\n\\\"}\\n\",\n",
      "    \"{\\\"prompt\\\": \\\"Render a 3D model of a house\\\\n\\\\n##\\\\n\\\\n\\\", \\\"completion\\\": \\\" <nooutput> This type of instruction cannot be fulfilled by a GPT model.\\\\n\\\"}\\n\",\n",
      "    \"{\\\"prompt\\\": \\\"Evaluate this sentence for spelling and grammar mistakes\\\\nHe finnished his meal and left the resturant\\\\n\\\\n##\\\\n\\\\n\\\", \\\"completion\\\": \\\" He finished his meal and left the restaurant.\\\\n\\\"}\\n\"\n",
      "]\n"
     ]
    }
   ],
   "source": [
    "# convert the data into a file named alpaca_data_cleaned.jsonl. the file will have a dictionary with 2 keys which is prompt and completion\n",
    "# prompt will be the instruction and end in \\n\\n##\\n\\n. if the input exists, then the prompt will be the instruction, a new line character, the input, and end in \\n\\n##\\n\\n.\n",
    "# the completion will be the output with a blank character at the beginning and a new line character at the end\n",
    "# the file will be in jsonl format which is a json file with each line being a json object\n",
    "\n",
    "with open(os.path.join('data', 'alpaca_data_cleaned.jsonl'), 'w') as f:\n",
    "    for d in data:\n",
    "        if d['input'] == '':\n",
    "            prompt = d['instruction'] + '\\n\\n##\\n\\n'\n",
    "        else:\n",
    "            prompt = d['instruction'] + '\\n' + d['input'] + '\\n\\n##\\n\\n'\n",
    "        completion = ' ' + d['output'] + '\\n'\n",
    "        json.dump({'prompt': prompt, 'completion': completion}, f)\n",
    "        f.write('\\n')\n",
    "\n",
    "# print the first 10 objects with pretty formatting\n",
    "with open(os.path.join('data', 'alpaca_data_cleaned.jsonl'), 'r') as f:\n",
    "    data = f.readlines()\n",
    "\n",
    "print(json.dumps(data[:10], indent=4))"
   ]
  },
  {
   "cell_type": "code",
   "execution_count": 7,
   "metadata": {},
   "outputs": [],
   "source": [
    "# Run the following command in the terminal to use the OpenAI CLI Data Preparation Tool to prepare the data for training.\n",
    "# In addition to the cleaning processes above, the tool will remove the prompt instruction\n",
    "# ! openai tools fine_tunes.prepare_data -f data/alpaca_data_cleaned.jsonl\n",
    "\n",
    "# Create the fine-tuned model using the OpenAI CLI\n",
    "# openai api fine_tunes.create -t data/alpaca_data_cleaned.jsonl -m ada --suffix \"52k_instruct_ada\""
   ]
  }
 ],
 "metadata": {
  "kernelspec": {
   "display_name": "venv",
   "language": "python",
   "name": "python3"
  },
  "language_info": {
   "codemirror_mode": {
    "name": "ipython",
    "version": 3
   },
   "file_extension": ".py",
   "mimetype": "text/x-python",
   "name": "python",
   "nbconvert_exporter": "python",
   "pygments_lexer": "ipython3",
   "version": "3.9.15"
  },
  "orig_nbformat": 4
 },
 "nbformat": 4,
 "nbformat_minor": 2
}
