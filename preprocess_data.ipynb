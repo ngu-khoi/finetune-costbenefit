{
 "cells": [
  {
   "attachments": {},
   "cell_type": "markdown",
   "metadata": {},
   "source": [
    "# preprocess_data\n",
    "**Author:** Khoi Nguyen\n",
    "\n",
    "**Date created:** 03/06/2023\n",
    "\n",
    "**Last modified:** 04/15/2023\n",
    "\n",
    "**Description:** This notebook converts the GenericsKB-Best dataset from `.tsv` to `.json` format and removes unnecessary columns."
   ]
  },
  {
   "cell_type": "code",
   "execution_count": 1,
   "metadata": {},
   "outputs": [],
   "source": [
    "# Access GenericsKB-Best.tsv in the data folder and takes data from the \"GENERIC SENTENCE\" column and creates a new JSON file with the data in the format of the original JSON file\n",
    "# The new JSON file is saved in the data folder\n",
    "\n",
    "import json\n",
    "import pandas as pd\n",
    "\n",
    "# Read the GenericsKB-Best.tsv file\n",
    "df = pd.read_csv('data/GenericsKB-Best.tsv', sep='\\t')\n",
    "\n",
    "# Create a new JSON file with the data from the \"GENERIC SENTENCE\" column into a list of \"sentences\"\n",
    "with open('data/generics.json', 'w') as f:\n",
    "    json.dump({\"sentences\": [{\"sentence\": sentence} for sentence in df['GENERIC SENTENCE'].tolist()]}, f)"
   ]
  },
  {
   "cell_type": "code",
   "execution_count": 2,
   "metadata": {},
   "outputs": [
    {
     "name": "stdout",
     "output_type": "stream",
     "text": [
      "[{'sentence': 'AA batteries maintain the settings if the power ever goes off.'}, {'sentence': 'Aardvark females appear to come into season once per year.'}, {'sentence': 'Aardvark holes are used by small buck as a resting place to escape the midday sun.'}, {'sentence': 'Aardvark skin is thick and sparsely haired.'}, {'sentence': 'Aardvark isa mammal.'}, {'sentence': 'Aardvarks also dig to get food.'}, {'sentence': 'Aardvarks also eat locusts and a type of grasshopper.'}, {'sentence': 'Aardvarks also require sandy soil, as opposed to rocks, so that they can dig for termites and ants.'}, {'sentence': 'Aardvarks are a nocturnal creature.'}, {'sentence': 'Aardvarks are about the size of a small pig.'}]\n"
     ]
    }
   ],
   "source": [
    "# Read the new JSON file and print the first ten entries\n",
    "with open('data/generics.json', 'r') as f:\n",
    "    data = json.load(f)\n",
    "    print(data['sentences'][:10])"
   ]
  }
 ],
 "metadata": {
  "kernelspec": {
   "display_name": "Python 3",
   "language": "python",
   "name": "python3"
  },
  "language_info": {
   "codemirror_mode": {
    "name": "ipython",
    "version": 3
   },
   "file_extension": ".py",
   "mimetype": "text/x-python",
   "name": "python",
   "nbconvert_exporter": "python",
   "pygments_lexer": "ipython3",
   "version": "3.9.15"
  },
  "orig_nbformat": 4,
  "vscode": {
   "interpreter": {
    "hash": "a665b5d41d17b532ea9890333293a1b812fa0b73c9c25c950b3cedf1bebd0438"
   }
  }
 },
 "nbformat": 4,
 "nbformat_minor": 2
}
